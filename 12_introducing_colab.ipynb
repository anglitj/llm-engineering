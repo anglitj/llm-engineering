{
 "cells": [
  {
   "cell_type": "markdown",
   "id": "61f56afc-bc15-46a4-8eb1-d940c332cf52",
   "metadata": {},
   "source": [
    "# Introducing Colab\n",
    "\n",
    "To see some of what Colab can do, please follow the link below!\n",
    "\n",
    "https://colab.research.google.com/drive/1DjcrYDZldAXKJ08x1uYIVCtItoLPk1Wr?usp=sharing\n"
   ]
  },
  {
   "cell_type": "code",
   "execution_count": null,
   "id": "b65e2217",
   "metadata": {},
   "outputs": [],
   "source": [
    "# Prerequisite installation\n",
    "# !pip install diffusers transformers accelerate\n",
    "# !pip install datasets"
   ]
  },
  {
   "cell_type": "code",
   "execution_count": null,
   "id": "e9289ba7-200c-43a9-b67a-c5ce826c9537",
   "metadata": {},
   "outputs": [],
   "source": [
    "from helpers import get_api_token\n",
    "hf_token = get_api_token(\"HF_TOKEN\")"
   ]
  },
  {
   "cell_type": "code",
   "execution_count": null,
   "id": "14c98d17",
   "metadata": {},
   "outputs": [],
   "source": [
    "from huggingface_hub import login\n",
    "login(hf_token, add_to_git_credential=True)"
   ]
  },
  {
   "cell_type": "code",
   "execution_count": null,
   "id": "7157f969",
   "metadata": {},
   "outputs": [],
   "source": [
    "# Device agnostic code\n",
    "import torch\n",
    "device = \"cuda\" if torch.cuda.is_available() else \"cpu\""
   ]
  },
  {
   "cell_type": "code",
   "execution_count": null,
   "id": "662cf8e5",
   "metadata": {},
   "outputs": [],
   "source": [
    "import torch\n",
    "from diffusers import FluxPipeline\n",
    "\n",
    "pipe = FluxPipeline.from_pretrained(\"black-forest-labs/FLUX.1-schnell\", \n",
    "                                    torch_dtype = torch.bfloat16).to(\"cpu\")\n",
    "\n",
    "generator = torch.Generator(device=\"cpu\").manual_seed(0)\n",
    "\n",
    "prompt = \"A futuristic class full of students learning AI coding in the surreal style of Salvador Dali\""
   ]
  },
  {
   "cell_type": "code",
   "execution_count": null,
   "id": "aaa275b1",
   "metadata": {},
   "outputs": [],
   "source": [
    "image = pipe(\n",
    "  prompt,\n",
    "  guidance_scale=0.0,\n",
    "  num_inference_steps=4,\n",
    "  max_sequence_length=256,\n",
    "  generator=generator\n",
    ").images[0]\n",
    "\n",
    "image.save(\"surreal.png\")"
   ]
  },
  {
   "cell_type": "code",
   "execution_count": null,
   "id": "a1f9983f",
   "metadata": {},
   "outputs": [],
   "source": [
    "from IPython.display import display\n",
    "from PIL import Image\n",
    "\n",
    "# Display the image inline\n",
    "display(image)"
   ]
  },
  {
   "cell_type": "code",
   "execution_count": null,
   "id": "807ee313",
   "metadata": {},
   "outputs": [],
   "source": [
    "from transformers import pipeline\n",
    "from datasets import load_dataset\n",
    "import soundfile as sf\n",
    "import torch\n",
    "\n",
    "synthesizer = pipeline(\"text-to-speech\", \"microsoft/speecht5_tts\", device=device)\n",
    "\n",
    "embeddings_dataset = load_dataset(\"Matthijs/cmu-arctic-xvectors\", split=\"validation\")\n",
    "speaker_embedding = torch.tensor(embeddings_dataset[7306][\"xvector\"]).unsqueeze(0)\n",
    "\n",
    "speech = synthesizer(\"Hi to an artificial intelligence engineer oin the way to mastery\", forward_params = {\"speaker_embeddings\": speaker_embedding})\n",
    "\n",
    "sf.write(\"speech.wav\", speech[\"audio\"], samplerate=speech[\"sample_rate\"])\n"
   ]
  },
  {
   "cell_type": "code",
   "execution_count": null,
   "id": "9c9aae0f",
   "metadata": {},
   "outputs": [],
   "source": [
    "from IPython.display import Audio\n",
    "Audio(\"speech.wav\")"
   ]
  }
 ],
 "metadata": {
  "kernelspec": {
   "display_name": "base",
   "language": "python",
   "name": "python3"
  },
  "language_info": {
   "codemirror_mode": {
    "name": "ipython",
    "version": 3
   },
   "file_extension": ".py",
   "mimetype": "text/x-python",
   "name": "python",
   "nbconvert_exporter": "python",
   "pygments_lexer": "ipython3",
   "version": "3.12.4"
  }
 },
 "nbformat": 4,
 "nbformat_minor": 5
}
