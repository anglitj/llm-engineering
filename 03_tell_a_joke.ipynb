{
 "cells": [
  {
   "cell_type": "code",
   "execution_count": 3,
   "metadata": {},
   "outputs": [],
   "source": [
    "# Getting API Keys\n",
    "import os\n",
    "from dotenv import load_dotenv\n",
    "\n",
    "os.environ[\"OPENAI_API_KEY\"] = os.getenv(\"OPENAI_API_KEY\")\n",
    "os.environ[\"ANTHROPIC_API_KEY\"] = os.getenv(\"ANTHROPIC_API_KEY\", \"\")\n",
    "# print(os.environ[\"ANTHROPIC_API_KEY\"])"
   ]
  },
  {
   "cell_type": "code",
   "execution_count": 4,
   "metadata": {},
   "outputs": [],
   "source": [
    "# Initializing OpenAI APIs\n",
    "from openai import OpenAI\n",
    "openai=OpenAI()\n",
    "\n",
    "# Initializing Anthropic Claude\n",
    "import anthropic\n",
    "claude=anthropic.Anthropic()"
   ]
  },
  {
   "cell_type": "code",
   "execution_count": 5,
   "metadata": {},
   "outputs": [],
   "source": [
    "# Asking LLMs to tell a joke\n",
    "system_message=\"You are an assisstant that is great at telling jokes\"\n",
    "user_prompt=\"Tell a light-hearted joke for an audience of Data Scientists\""
   ]
  },
  {
   "cell_type": "code",
   "execution_count": 6,
   "metadata": {},
   "outputs": [],
   "source": [
    "# Setting a message for OpenAI Models\n",
    "open_ai_message=[\n",
    "  {\"role\": \"system\", \"content\":system_message},\n",
    "  {\"role\": \"user\", \"content\":user_prompt},\n",
    "]"
   ]
  },
  {
   "cell_type": "code",
   "execution_count": 6,
   "metadata": {},
   "outputs": [
    {
     "name": "stdout",
     "output_type": "stream",
     "text": [
      "Why did the data scientist bring a flashlight to the computer? \n",
      "\n",
      "Because they heard the data was in a dark dataset!\n"
     ]
    }
   ],
   "source": [
    "# GPT-3.5-Turbo\n",
    "completion_gpt35turbo = openai.chat.completions.create(model=\"gpt-3.5-turbo\",\n",
    "                                            messages=open_ai_message)\n",
    "print(completion_gpt35turbo.choices[0].message.content)"
   ]
  },
  {
   "cell_type": "code",
   "execution_count": 7,
   "metadata": {},
   "outputs": [
    {
     "name": "stdout",
     "output_type": "stream",
     "text": [
      "Why did the data scientist break up with the statistician?\n",
      "\n",
      "Because they found her mean too unstable!\n"
     ]
    }
   ],
   "source": [
    "# GPT-4o-mini with temperature setting controls for creativity\n",
    "completions_gpt4omini = openai.chat.completions.create(model=\"gpt-4o-mini\",\n",
    "                                                       messages=open_ai_message,\n",
    "                                                       temperature=0.7)\n",
    "print(completions_gpt4omini.choices[0].message.content)"
   ]
  },
  {
   "cell_type": "code",
   "execution_count": 8,
   "metadata": {},
   "outputs": [
    {
     "name": "stdout",
     "output_type": "stream",
     "text": [
      "Why did the data scientist bring a ladder to work?\n",
      "\n",
      "Because they heard the cloud was full of high-level insights!\n"
     ]
    }
   ],
   "source": [
    "# GPT-4o\n",
    "completions_gpt4o = openai.chat.completions.create(model=\"gpt-4o\",\n",
    "                                                   messages=open_ai_message,\n",
    "                                                   temperature=0.4)\n",
    "print(completions_gpt4o.choices[0].message.content)"
   ]
  },
  {
   "cell_type": "code",
   "execution_count": 7,
   "metadata": {},
   "outputs": [
    {
     "name": "stdout",
     "output_type": "stream",
     "text": [
      "Sure, here's a light-hearted joke for data scientists:\n",
      "\n",
      "Why did the data scientist break up with their significant other?\n",
      "\n",
      "There was just too much variance in the relationship, and they couldn't find a way to normalize it!\n",
      "\n",
      "Ba dum tss! 🥁\n",
      "\n",
      "This joke plays on statistical concepts like variance and normalization, which data scientists work with frequently. It's a nerdy way of saying the relationship was too unpredictable and couldn't be stabilized.\n"
     ]
    }
   ],
   "source": [
    "# Claude 3.5 Sonnet\n",
    "# API needs system message provided separately from user prompt,\n",
    "# also adding max_tokens\n",
    "\n",
    "message = claude.messages.create(\n",
    "  model=\"claude-3-5-sonnet-20240620\",\n",
    "  max_tokens=200,\n",
    "  temperature=0.7,\n",
    "  system=system_message,\n",
    "  messages=[\n",
    "    {\"role\": \"user\", \"content\": user_prompt},\n",
    "  ],\n",
    ")\n",
    "\n",
    "\n",
    "print(message.content[0].text)"
   ]
  },
  {
   "cell_type": "code",
   "execution_count": null,
   "metadata": {},
   "outputs": [],
   "source": []
  }
 ],
 "metadata": {
  "kernelspec": {
   "display_name": "base",
   "language": "python",
   "name": "python3"
  },
  "language_info": {
   "codemirror_mode": {
    "name": "ipython",
    "version": 3
   },
   "file_extension": ".py",
   "mimetype": "text/x-python",
   "name": "python",
   "nbconvert_exporter": "python",
   "pygments_lexer": "ipython3",
   "version": "3.12.4"
  }
 },
 "nbformat": 4,
 "nbformat_minor": 2
}
