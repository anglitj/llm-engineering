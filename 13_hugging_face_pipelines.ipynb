{
 "cells": [
  {
   "cell_type": "markdown",
   "id": "1f2ed49d-7873-4a03-bdc8-bda1c23cb979",
   "metadata": {},
   "source": [
    "# HuggingFace pipelines\n",
    "\n",
    "For this session we head to Google Colab and use this Notebook to explore the HuggingFace High Level API, pipelines.\n",
    "\n",
    "https://colab.research.google.com/drive/1aMaEw8A56xs0bRM4lu8z7ou18jqyybGm?usp=sharing\n",
    "\n",
    "You can use a low cost (or free) T4 GPU runtime for this notebook - and the results look great!\n",
    "\n",
    "There are instructions in the notebook for setting up your HuggingFace Token and including it as a secret in the notebook.\n"
   ]
  },
  {
   "cell_type": "code",
   "execution_count": null,
   "id": "d5d84b78-0a02-4a35-8f10-e3f7451d352f",
   "metadata": {},
   "outputs": [],
   "source": [
    "# Needed installation\n",
    "# !pip install -q transformers datasets diffusers"
   ]
  },
  {
   "cell_type": "code",
   "execution_count": null,
   "id": "ddd3374d",
   "metadata": {},
   "outputs": [],
   "source": [
    "from helpers import get_api_token\n",
    "hf_token = get_api_token(\"HF_TOKEN\")"
   ]
  },
  {
   "cell_type": "code",
   "execution_count": null,
   "id": "a9334cda",
   "metadata": {},
   "outputs": [],
   "source": [
    "# login to hugging face\n",
    "from huggingface_hub import login\n",
    "login(hf_token, add_to_git_credential=True)"
   ]
  },
  {
   "cell_type": "code",
   "execution_count": null,
   "id": "306325bd",
   "metadata": {},
   "outputs": [],
   "source": [
    "# Device agnostic code\n",
    "import torch\n",
    "device = \"cuda\" if torch.cuda.is_available() else \"cpu\""
   ]
  },
  {
   "cell_type": "code",
   "execution_count": null,
   "id": "9207b75f",
   "metadata": {},
   "outputs": [],
   "source": [
    "# Sentimental Analysis\n",
    "from transformers import pipeline\n",
    "classifier = pipeline(\"sentimental-analysis\",devic=device)\n",
    "result = classifier(\"I'm super excited to be on the way to LLM mastery!\")\n",
    "print(result)"
   ]
  },
  {
   "cell_type": "code",
   "execution_count": null,
   "id": "31d40a88",
   "metadata": {},
   "outputs": [],
   "source": [
    "# Named Entity Recognition\n",
    "\n",
    "ner = pipeline(\"ner\", grouped_entities=True, device=\"cuda\")\n",
    "result = ner(\"Barack Obama was the 44th president of the United States.\")\n",
    "print(result)"
   ]
  },
  {
   "cell_type": "code",
   "execution_count": null,
   "id": "2e168b80",
   "metadata": {},
   "outputs": [],
   "source": [
    "# Question Answering with Context\n",
    "\n",
    "question_answerer = pipeline(\"question-answering\", device=\"cuda\")\n",
    "result = question_answerer(question=\"Who was the 44th president of the United States?\", context=\"Barack Obama was the 44th president of the United States.\")\n",
    "print(result)"
   ]
  },
  {
   "cell_type": "code",
   "execution_count": null,
   "id": "9ef6af8f",
   "metadata": {},
   "outputs": [],
   "source": [
    "# Text Summarization\n",
    "\n",
    "summarizer = pipeline(\"summarization\", device=\"cuda\")\n",
    "text = \"\"\"The Hugging Face transformers library is an incredibly versatile and powerful tool for natural language processing (NLP).\n",
    "It allows users to perform a wide range of tasks such as text classification, named entity recognition, and question answering, among others.\n",
    "It's an extremely popular library that's widely used by the open-source data science community.\n",
    "It lowers the barrier to entry into the field by providing Data Scientists with a productive, convenient way to work with transformer models.\n",
    "\"\"\"\n",
    "summary = summarizer(text, max_length=50, min_length=25, do_sample=False)\n",
    "print(summary[0]['summary_text'])"
   ]
  },
  {
   "cell_type": "code",
   "execution_count": null,
   "id": "ccd1de2b",
   "metadata": {},
   "outputs": [],
   "source": [
    "# Translation\n",
    "\n",
    "translator = pipeline(\"translation_en_to_fr\", device=\"cuda\")\n",
    "result = translator(\"The Data Scientists were truly amazed by the power and simplicity of the HuggingFace pipeline API.\")\n",
    "print(result[0]['translation_text'])"
   ]
  },
  {
   "cell_type": "code",
   "execution_count": null,
   "id": "fc2abe11",
   "metadata": {},
   "outputs": [],
   "source": [
    "# Classification\n",
    "\n",
    "classifier = pipeline(\"zero-shot-classification\", device=\"cuda\")\n",
    "result = classifier(\"Hugging Face's Transformers library is amazing!\", candidate_labels=[\"technology\", \"sports\", \"politics\"])\n",
    "print(result)"
   ]
  },
  {
   "cell_type": "code",
   "execution_count": null,
   "id": "e49dfd70",
   "metadata": {},
   "outputs": [],
   "source": [
    "# Text Generation\n",
    "\n",
    "generator = pipeline(\"text-generation\", device=\"cuda\")\n",
    "result = generator(\"If there's one thing I want you to remember about using HuggingFace pipelines, it's\")\n",
    "print(result[0]['generated_text'])"
   ]
  },
  {
   "cell_type": "code",
   "execution_count": null,
   "id": "1cd61764",
   "metadata": {},
   "outputs": [],
   "source": [
    "# Image Generation\n",
    "\n",
    "image_gen = DiffusionPipeline.from_pretrained(\n",
    "    \"stabilityai/stable-diffusion-2\",\n",
    "    torch_dtype=torch.float16,\n",
    "    use_safetensors=True,\n",
    "    variant=\"fp16\"\n",
    "    ).to(\"cuda\")\n",
    "\n",
    "text = \"A class of Data Scientists learning about AI, in the surreal style of Salvador Dali\"\n",
    "image = image_gen(prompt=text).images[0]\n",
    "image"
   ]
  },
  {
   "cell_type": "code",
   "execution_count": null,
   "id": "75b009ce",
   "metadata": {},
   "outputs": [],
   "source": [
    "# Audio Generation\n",
    "\n",
    "synthesiser = pipeline(\"text-to-speech\", \"microsoft/speecht5_tts\", device='cuda')\n",
    "\n",
    "embeddings_dataset = load_dataset(\"Matthijs/cmu-arctic-xvectors\", split=\"validation\")\n",
    "speaker_embedding = torch.tensor(embeddings_dataset[7306][\"xvector\"]).unsqueeze(0)\n",
    "\n",
    "speech = synthesiser(\"Hi to an artificial intelligence engineer, on the way to mastery!\", forward_params={\"speaker_embeddings\": speaker_embedding})\n",
    "\n",
    "sf.write(\"speech.wav\", speech[\"audio\"], samplerate=speech[\"sampling_rate\"])\n",
    "Audio(\"speech.wav\")"
   ]
  },
  {
   "cell_type": "markdown",
   "id": "4e414652",
   "metadata": {},
   "source": [
    "# All the available pipelines\n",
    "\n",
    "Here are all the pipelines available from Transformers and Diffusers.\n",
    "\n",
    "With thanks to student Lucky P for suggesting I include this!\n",
    "\n",
    "There's a list pipelines under the Tasks on this page (you have to scroll down a bit, then expand the parameters to see the Tasks):\n",
    "\n",
    "https://huggingface.co/docs/transformers/main_classes/pipelines\n",
    "\n",
    "There's also this list of Tasks for Diffusion models instead of Transformers, following the image generation example where I use DiffusionPipeline above.\n",
    "\n",
    "https://huggingface.co/docs/diffusers/en/api/pipelines/overview\n",
    "\n",
    "If you come up with some cool examples of other pipelines, please share them with me! It's wonderful how HuggingFace makes this advanced AI functionality available for inference with such a simple API.\n"
   ]
  }
 ],
 "metadata": {
  "kernelspec": {
   "display_name": "base",
   "language": "python",
   "name": "python3"
  },
  "language_info": {
   "codemirror_mode": {
    "name": "ipython",
    "version": 3
   },
   "file_extension": ".py",
   "mimetype": "text/x-python",
   "name": "python",
   "nbconvert_exporter": "python",
   "pygments_lexer": "ipython3",
   "version": "3.12.4"
  }
 },
 "nbformat": 4,
 "nbformat_minor": 5
}
