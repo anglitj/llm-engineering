{
 "cells": [
  {
   "cell_type": "markdown",
   "metadata": {},
   "source": [
    "## Project Airline AI Assistant\n",
    "\n",
    "Bringing up all together what we'eve learned to make an AI Customer Support assitant for an Airline.\n"
   ]
  },
  {
   "cell_type": "code",
   "execution_count": 36,
   "metadata": {},
   "outputs": [],
   "source": [
    "# Getting API Keys\n",
    "import os\n",
    "from dotenv import load_dotenv\n",
    "\n",
    "load_dotenv()\n",
    "api_key = os.getenv(\"OPENAI_API_KEY\")\n",
    "\n",
    "# Initilizing OpenAI\n",
    "from openai import OpenAI\n",
    "openai = OpenAI(api_key=api_key)"
   ]
  },
  {
   "cell_type": "code",
   "execution_count": 37,
   "metadata": {},
   "outputs": [
    {
     "data": {
      "text/plain": [
       "<openai.OpenAI at 0x2d4f2af3c20>"
      ]
     },
     "execution_count": 37,
     "metadata": {},
     "output_type": "execute_result"
    }
   ],
   "source": [
    "openai"
   ]
  },
  {
   "cell_type": "code",
   "execution_count": 38,
   "metadata": {},
   "outputs": [],
   "source": [
    "# Setting a system prompt\n",
    "system_prompt = \"Your are a helpful assistant for an Airline called FlightAI. Give a short, courteous answers no more than 1 sentence. Always be accurate. If you don't know the answer, say so.\""
   ]
  },
  {
   "cell_type": "code",
   "execution_count": 40,
   "metadata": {},
   "outputs": [],
   "source": [
    "def chat(message, history):\n",
    "  system_message = [{\"role\":\"system\", \"content\": system_prompt}]\n",
    "  user_message = [{\"role\":\"user\", \"content\":message}]\n",
    "  messages = system_message + history + user_message\n",
    "\n",
    "  # Call OpenAI API\n",
    "  response = openai.chat.completions.create(model=\"gpt-4o-mini\",\n",
    "                                            messages=messages)\n",
    "  \n",
    "  # Return the response\n",
    "  return response.choices[0].message.content"
   ]
  },
  {
   "cell_type": "code",
   "execution_count": 39,
   "metadata": {},
   "outputs": [
    {
     "name": "stdout",
     "output_type": "stream",
     "text": [
      "* Running on local URL:  http://127.0.0.1:7870\n",
      "\n",
      "To create a public link, set `share=True` in `launch()`.\n"
     ]
    },
    {
     "data": {
      "text/html": [
       "<div><iframe src=\"http://127.0.0.1:7870/\" width=\"100%\" height=\"500\" allow=\"autoplay; camera; microphone; clipboard-read; clipboard-write;\" frameborder=\"0\" allowfullscreen></iframe></div>"
      ],
      "text/plain": [
       "<IPython.core.display.HTML object>"
      ]
     },
     "metadata": {},
     "output_type": "display_data"
    },
    {
     "data": {
      "text/plain": []
     },
     "execution_count": 39,
     "metadata": {},
     "output_type": "execute_result"
    }
   ],
   "source": [
    "import gradio as gr\n",
    "gr.ChatInterface(fn=chat, type=\"messages\").launch()"
   ]
  },
  {
   "cell_type": "markdown",
   "metadata": {},
   "source": [
    "## Introducting to Tools\n",
    "\n",
    "Tools are powerful feature provided by the frontier LLMs.\n",
    "With tools, we can write a function, and have the LLM call that function as part of its reponse.\n",
    "Sounds almost spooky.. we're giving it the power to run code on our machine? Well, kinda.\n"
   ]
  },
  {
   "cell_type": "code",
   "execution_count": 41,
   "metadata": {},
   "outputs": [],
   "source": [
    "# Create a function that we will be using later\n",
    "\n",
    "ticket_prices = {\"london\":\"$799\", \n",
    "                 \"paris\": \"$899\",\n",
    "                 \"tokyo\": \"$1400\",\n",
    "                 \"berlin\": \"$499\",\n",
    "                 \"philippines\": \"$699\"}\n",
    "\n",
    "\n",
    "def get_ticket_price(destination_city):\n",
    "  print(f\"Tool get_ticket_price called for {destination_city}\")\n",
    "  city = destination_city.lower()\n",
    "  return ticket_prices.get(city, \"Unknown\")"
   ]
  },
  {
   "cell_type": "code",
   "execution_count": 42,
   "metadata": {},
   "outputs": [
    {
     "name": "stdout",
     "output_type": "stream",
     "text": [
      "Tool get_ticket_price called for Philippines\n"
     ]
    },
    {
     "data": {
      "text/plain": [
       "'$699'"
      ]
     },
     "execution_count": 42,
     "metadata": {},
     "output_type": "execute_result"
    }
   ],
   "source": [
    "get_ticket_price(\"Philippines\")"
   ]
  },
  {
   "cell_type": "code",
   "execution_count": 43,
   "metadata": {},
   "outputs": [],
   "source": [
    "# This is a particular dictionary structure that is required to describe our function and to pass into our LLM.\n",
    "\n",
    "price_function = {\n",
    "  \"name\": \"get_ticket_price\",\n",
    "  \"description\": \"Get the price of a return ticket to the destination city. Call this whenever you need to know the ticket price, for example when a customer asks 'How much is a ticket to this city.'\",\n",
    "  \"parameters\": {\n",
    "    \"type\": \"object\",\n",
    "    \"properties\": {\n",
    "      \"destination_city\": {\n",
    "        \"type\":\"string\",\n",
    "        \"description\":\"The city that the customer whants to travel to.\"\n",
    "      },\n",
    "    },\n",
    "    \"required\": [\"destination_city\"],\n",
    "    \"additionalProperties\": False\n",
    "  }\n",
    "}\n",
    "\n",
    "# This will then include in a list of tools\n",
    "tools = [{\"type\": \"function\", \"function\": price_function}]"
   ]
  },
  {
   "cell_type": "markdown",
   "metadata": {},
   "source": [
    "## Getting OpenAI to use the Tool\n",
    "\n",
    "There's some fiddly stuff to allow OpenAI \"to call our tool\"\n",
    "\n",
    "What we actually do is give the LLM the oportunity to inform us that it wants us to run a tool.\n",
    "\n",
    "Here's how the new chat function looks\n"
   ]
  },
  {
   "cell_type": "code",
   "execution_count": 54,
   "metadata": {},
   "outputs": [],
   "source": [
    "def chat_tool(message, history):\n",
    "  system_message = [{\"role\": \"system\", \"content\": system_prompt}]\n",
    "  user_message = [{\"role\": \"user\", \"content\": message}]\n",
    "  messages = system_message + history + user_message\n",
    "\n",
    "  print(messages)\n",
    "  \n",
    "  # Call OpenAI API with tools\n",
    "  response = openai.chat.completions.create(\n",
    "    model = \"gpt-4o-mini\",\n",
    "    messages=messages,\n",
    "    tools=tools\n",
    "  )\n",
    "\n",
    "  if response.choices[0].finish_reason==\"tool_calls\":\n",
    "    print(\"tool_calls\")\n",
    "    message_response = response.choices[0].message\n",
    "    print(\"message_response: \", message_response)\n",
    "\n",
    "    # Extracting the tool\n",
    "    tool_response , city = handle_tool_call(message_response)\n",
    "    print(\"tool_response: \", tool_response)\n",
    "\n",
    "    # Appending the both tool and the message\n",
    "    messages.append(message_response)\n",
    "    messages.append(tool_response)\n",
    "    print(\"new messages: \", messages)\n",
    "\n",
    "    # Call OpenAI API again but this time without the tools\n",
    "    response = openai.chat.completions.create(\n",
    "      model=\"gpt-4o-mini\",\n",
    "      messages=messages\n",
    "    )\n",
    "\n",
    "  return response.choices[0].message.content"
   ]
  },
  {
   "cell_type": "code",
   "execution_count": 55,
   "metadata": {},
   "outputs": [],
   "source": [
    "import json\n",
    "\n",
    "def handle_tool_call(message_response):\n",
    "  tool_call = message_response.tool_calls[0]\n",
    "  arguments = json.loads(tool_call.function.arguments)\n",
    "  city = arguments.get(\"destination_city\")\n",
    "  price = get_ticket_price(city)\n",
    "\n",
    "  tool_response = {\n",
    "    \"role\": \"tool\",\n",
    "    \"content\": json.dumps({\"destination_city\": city, \"price\": price}),\n",
    "    \"tool_call_id\": message_response.tool_calls[0].id\n",
    "  }\n",
    "\n",
    "  return tool_response, city"
   ]
  },
  {
   "cell_type": "code",
   "execution_count": null,
   "metadata": {},
   "outputs": [
    {
     "name": "stdout",
     "output_type": "stream",
     "text": [
      "* Running on local URL:  http://127.0.0.1:7874\n",
      "\n",
      "To create a public link, set `share=True` in `launch()`.\n"
     ]
    },
    {
     "data": {
      "text/html": [
       "<div><iframe src=\"http://127.0.0.1:7874/\" width=\"100%\" height=\"500\" allow=\"autoplay; camera; microphone; clipboard-read; clipboard-write;\" frameborder=\"0\" allowfullscreen></iframe></div>"
      ],
      "text/plain": [
       "<IPython.core.display.HTML object>"
      ]
     },
     "metadata": {},
     "output_type": "display_data"
    },
    {
     "data": {
      "text/plain": []
     },
     "execution_count": 56,
     "metadata": {},
     "output_type": "execute_result"
    },
    {
     "name": "stdout",
     "output_type": "stream",
     "text": [
      "[{'role': 'system', 'content': \"Your are a helpful assistant for an Airline called FlightAI. Give a short, courteous answers no more than 1 sentence. Always be accurate. If you don't know the answer, say so.\"}, {'role': 'user', 'content': 'Hi'}]\n",
      "[{'role': 'system', 'content': \"Your are a helpful assistant for an Airline called FlightAI. Give a short, courteous answers no more than 1 sentence. Always be accurate. If you don't know the answer, say so.\"}, {'role': 'user', 'metadata': {'title': None}, 'content': 'Hi'}, {'role': 'assistant', 'metadata': {'title': None}, 'content': 'Hello! How can I assist you today?'}, {'role': 'user', 'content': 'what are the available flights?'}]\n",
      "[{'role': 'system', 'content': \"Your are a helpful assistant for an Airline called FlightAI. Give a short, courteous answers no more than 1 sentence. Always be accurate. If you don't know the answer, say so.\"}, {'role': 'user', 'metadata': {'title': None}, 'content': 'Hi'}, {'role': 'assistant', 'metadata': {'title': None}, 'content': 'Hello! How can I assist you today?'}, {'role': 'user', 'metadata': {'title': None}, 'content': 'what are the available flights?'}, {'role': 'assistant', 'metadata': {'title': None}, 'content': 'I would need the destination city to provide information on available flights.'}, {'role': 'user', 'content': 'Philippines'}]\n",
      "[{'role': 'system', 'content': \"Your are a helpful assistant for an Airline called FlightAI. Give a short, courteous answers no more than 1 sentence. Always be accurate. If you don't know the answer, say so.\"}, {'role': 'user', 'metadata': {'title': None}, 'content': 'Hi'}, {'role': 'assistant', 'metadata': {'title': None}, 'content': 'Hello! How can I assist you today?'}, {'role': 'user', 'metadata': {'title': None}, 'content': 'what are the available flights?'}, {'role': 'assistant', 'metadata': {'title': None}, 'content': 'I would need the destination city to provide information on available flights.'}, {'role': 'user', 'metadata': {'title': None}, 'content': 'Philippines'}, {'role': 'assistant', 'metadata': {'title': None}, 'content': \"I currently don't have access to specific flight schedules, but I can help you with the ticket price to the Philippines. Would you like that?\"}, {'role': 'user', 'content': 'yes'}]\n",
      "tool_calls\n",
      "message_response:  ChatCompletionMessage(content=None, refusal=None, role='assistant', audio=None, function_call=None, tool_calls=[ChatCompletionMessageToolCall(id='call_8MLjA3InlYC05fptSioCNY5e', function=Function(arguments='{\"destination_city\":\"Philippines\"}', name='get_ticket_price'), type='function')])\n",
      "Tool get_ticket_price called for Philippines\n",
      "tool_response:  {'role': 'tool', 'content': '{\"destination_city\": \"Philippines\", \"price\": \"$699\"}', 'tool_call_id': 'call_8MLjA3InlYC05fptSioCNY5e'}\n",
      "new messages:  [{'role': 'system', 'content': \"Your are a helpful assistant for an Airline called FlightAI. Give a short, courteous answers no more than 1 sentence. Always be accurate. If you don't know the answer, say so.\"}, {'role': 'user', 'metadata': {'title': None}, 'content': 'Hi'}, {'role': 'assistant', 'metadata': {'title': None}, 'content': 'Hello! How can I assist you today?'}, {'role': 'user', 'metadata': {'title': None}, 'content': 'what are the available flights?'}, {'role': 'assistant', 'metadata': {'title': None}, 'content': 'I would need the destination city to provide information on available flights.'}, {'role': 'user', 'metadata': {'title': None}, 'content': 'Philippines'}, {'role': 'assistant', 'metadata': {'title': None}, 'content': \"I currently don't have access to specific flight schedules, but I can help you with the ticket price to the Philippines. Would you like that?\"}, {'role': 'user', 'content': 'yes'}, ChatCompletionMessage(content=None, refusal=None, role='assistant', audio=None, function_call=None, tool_calls=[ChatCompletionMessageToolCall(id='call_8MLjA3InlYC05fptSioCNY5e', function=Function(arguments='{\"destination_city\":\"Philippines\"}', name='get_ticket_price'), type='function')]), {'role': 'tool', 'content': '{\"destination_city\": \"Philippines\", \"price\": \"$699\"}', 'tool_call_id': 'call_8MLjA3InlYC05fptSioCNY5e'}]\n",
      "[{'role': 'system', 'content': \"Your are a helpful assistant for an Airline called FlightAI. Give a short, courteous answers no more than 1 sentence. Always be accurate. If you don't know the answer, say so.\"}, {'role': 'user', 'metadata': {'title': None}, 'content': 'Hi'}, {'role': 'assistant', 'metadata': {'title': None}, 'content': 'Hello! How can I assist you today?'}, {'role': 'user', 'metadata': {'title': None}, 'content': 'what are the available flights?'}, {'role': 'assistant', 'metadata': {'title': None}, 'content': 'I would need the destination city to provide information on available flights.'}, {'role': 'user', 'metadata': {'title': None}, 'content': 'Philippines'}, {'role': 'assistant', 'metadata': {'title': None}, 'content': \"I currently don't have access to specific flight schedules, but I can help you with the ticket price to the Philippines. Would you like that?\"}, {'role': 'user', 'metadata': {'title': None}, 'content': 'yes'}, {'role': 'assistant', 'metadata': {'title': None}, 'content': 'The ticket price to the Philippines is approximately $699.'}, {'role': 'user', 'content': 'Thanks'}]\n"
     ]
    }
   ],
   "source": [
    "gr.ChatInterface(fn=chat_tool, type=\"messages\").launch()"
   ]
  },
  {
   "cell_type": "code",
   "execution_count": null,
   "metadata": {},
   "outputs": [],
   "source": []
  }
 ],
 "metadata": {
  "kernelspec": {
   "display_name": "base",
   "language": "python",
   "name": "python3"
  },
  "language_info": {
   "codemirror_mode": {
    "name": "ipython",
    "version": 3
   },
   "file_extension": ".py",
   "mimetype": "text/x-python",
   "name": "python",
   "nbconvert_exporter": "python",
   "pygments_lexer": "ipython3",
   "version": "3.12.4"
  }
 },
 "nbformat": 4,
 "nbformat_minor": 2
}
